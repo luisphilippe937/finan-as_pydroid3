{
  "cells": [
    {
      "cell_type": "code",
      "execution_count": null,
      "metadata": {
        "colab": {
          "base_uri": "https://localhost:8080/"
        },
        "id": "vfqtWd2Kdq3n",
        "outputId": "fdb4381e-c1f9-493e-bb02-32087fa81db2"
      },
      "outputs": [
        {
          "output_type": "stream",
          "name": "stdout",
          "text": [
            "===================================================================\n",
            "ESTE PROGRAMA CALCULA SE É VANTAJOSO PAGAR PARCELADO\n",
            "CONSIDERANDO MESES DE PARCELAMENTO E TAXA DE RENDIMENTO POSSÍVEL\n",
            "===================================================================\n",
            "\n",
            "===================================================================\n",
            "Digite o número de parcela(s) a ser(em) paga(s), em meses: 10\n",
            "Digite o valor da parcela: 950\n",
            "Digite o valor de rendimento mensal possível (ex: 0.76%a.m. = 0.0076, repare o separador por PONTO): 0.0077\n",
            "===================================================================\n",
            "\n",
            "===================================================================\n",
            "O valor atual dessas parcelas é de R$ 9109.76\n"
          ]
        },
        {
          "output_type": "execute_result",
          "data": {
            "text/plain": [
              "9"
            ]
          },
          "metadata": {},
          "execution_count": 16
        }
      ],
      "source": [
        "## CÁLCULO DE VALOR ATUAL\n",
        "\n",
        "## PRIMEIRO TESTE, SEM USAR 2 FUNÇÕES\n",
        "\n",
        "\n",
        "print(\"===================================================================\");\n",
        "print(\"ESTE PROGRAMA CALCULA SE É VANTAJOSO PAGAR PARCELADO\");\n",
        "print(\"CONSIDERANDO MESES DE PARCELAMENTO E TAXA DE RENDIMENTO POSSÍVEL\");\n",
        "print(\"===================================================================\");\n",
        "print(\"\");\n",
        "print(\"===================================================================\");\n",
        "\n",
        "\n",
        "##inserção de valores por parte do usuário\n",
        "## 1- número de parcelas\n",
        "n_parcela = int(input(\"Digite o número de parcela(s) a ser(em) paga(s), em meses: \"));\n",
        "## 2- valor de parcela (pra esse cálculo, considera-se o valor nominal constante todos meses)\n",
        "parcela = float(input(\"Digite o valor da parcela: \"));\n",
        "## 3- valor de rendimento mensal possível (ex: 0.76%a.m. = 0.0076)\n",
        "rend_mes = float(input(\"Digite o valor de rendimento mensal possível (ex: 0.76%a.m. = 0.0076, repare o separador por PONTO): \"));\n",
        "\n",
        "\n",
        "##função de VALOR ATUAL\n",
        "def calc_valor_atual():\n",
        "  valor_atual = parcela * ( (1 - (1 + rend_mes)**(-n_parcela)) / rend_mes );\n",
        "  print(\"===================================================================\");\n",
        "  print(\"\");\n",
        "  print(\"===================================================================\");\n",
        "  print(\"O valor atual dessas parcelas é de R$ %.2f\" %valor_atual);\n",
        "\n",
        "\n",
        "##chamando a função de VALOR ATUAL\n",
        "calc_valor_atual()\n"
      ]
    },
    {
      "cell_type": "code",
      "source": [],
      "metadata": {
        "id": "YJjWeG7tGdwj"
      },
      "execution_count": null,
      "outputs": []
    },
    {
      "cell_type": "code",
      "source": [],
      "metadata": {
        "id": "1ygaoSkdFreY"
      },
      "execution_count": null,
      "outputs": []
    },
    {
      "cell_type": "code",
      "source": [
        "## CÁLCULO DE VALOR ATUAL\n",
        "\n",
        "## SEGUNDO TESTE, USANDO 2 FUNÇÕES\n",
        "\n",
        "print(\"===================================================================\");\n",
        "print(\"ESTE PROGRAMA CALCULA SE É VANTAJOSO PAGAR PARCELADO\");\n",
        "print(\"CONSIDERANDO MESES DE PARCELAMENTO E TAXA DE RENDIMENTO POSSÍVEL\");\n",
        "print(\"===================================================================\");\n",
        "print(\"\");\n",
        "print(\"===================================================================\");\n",
        "\n",
        "def inserir():\n",
        "  ##inserção de valores por parte do usuário\n",
        "  ## 1- número de parcelas\n",
        "  n_parcela = int(input(\"Digite o número de parcela(s) a ser(em) paga(s), em meses: \"));\n",
        "  ## 2- valor de parcela (pra esse cálculo, considera-se o valor nominal constante todos meses)\n",
        "  parcela = float(input(\"Digite o valor da parcela: \"));\n",
        "  ## 3- valor de rendimento mensal possível (ex: 0.76%a.m. = 0.0076)\n",
        "  rend_mes = float(input(\"Digite o valor de rendimento mensal possível (ex: 0.76%a.m. = 0.0076, repare o separador por PONTO): \"));\n",
        "  return n_parcela, parcela,rend_mes\n",
        "\n",
        "\n",
        "\n",
        "\n",
        "\n",
        "##função de VALOR ATUAL\n",
        "def calc_valor_atual(n_parcela, parcela,rend_mes):\n",
        "  valor_atual = parcela * ( (1 - (1 + rend_mes)**(-n_parcela)) / rend_mes );\n",
        "  print(\"===================================================================\");\n",
        "  print(\"\");\n",
        "  print(\"===================================================================\");\n",
        "  print(\"O valor atual dessas parcelas é de R$ %.2f\" %valor_atual);\n",
        "\n",
        "\n",
        "## definindo as variáveis trazidas pela função inserir()\n",
        "n_parcela, parcela, rend_mes = inserir()\n",
        "##chamando a função de VALOR ATUAL\n",
        "calc_valor_atual(n_parcela, parcela,rend_mes)\n"
      ],
      "metadata": {
        "id": "EsG0w9eOyyVI"
      },
      "execution_count": null,
      "outputs": []
    },
    {
      "cell_type": "code",
      "source": [
        "## CÁLCULO DE INVESTIMENTO EM RENDA FIXA\n",
        "\n",
        "print(\"===================================================================\");\n",
        "print(\"ESTE PROGRAMA CALCULA INVESTIMENTO EM RENDA FIXA\");\n",
        "print(\"===================================================================\");\n",
        "print(\"\");\n",
        "\n",
        "\n",
        "def calcular_renda_fixa():\n",
        "    # Solicitar informações do usuário\n",
        "    valor_investido = float(input(\"Digite o valor a ser investido: R$ \"))\n",
        "    meses_vencimento = int(input(\"Digite a quantidade de MESES do investimento: \"))\n",
        "    taxa_anual = float(input(\"Digite a taxa ANUAL de retorno (%): \"))\n",
        "\n",
        "    # Conversão da taxa para mensal\n",
        "    taxa_mensal = (1 + taxa_anual / 100) ** (1 / 12) - 1\n",
        "\n",
        "    # Cálculos\n",
        "    valor_final = valor_investido * (1 + taxa_mensal) ** meses_vencimento\n",
        "    lucro_bruto = valor_final - valor_investido\n",
        "\n",
        "    # Cálculo do imposto de renda (alíquota regressiva)\n",
        "    if meses_vencimento <= 6:\n",
        "        aliquota_ir = 22.5\n",
        "    elif meses_vencimento <= 12:\n",
        "        aliquota_ir = 20\n",
        "    elif meses_vencimento <= 24:\n",
        "        aliquota_ir = 17.5\n",
        "    else:\n",
        "        aliquota_ir = 15\n",
        "\n",
        "    tributacao_ir = lucro_bruto * (aliquota_ir / 100)\n",
        "    lucro_liquido = lucro_bruto - tributacao_ir\n",
        "    lucro_medio_mensal = lucro_liquido / meses_vencimento\n",
        "    taxa_media_mensal = (lucro_medio_mensal / valor_investido) * 100\n",
        "\n",
        "    # Exibição dos resultados\n",
        "    print(\"\");\n",
        "    print(\"===================================================================\");\n",
        "    print(\"\");\n",
        "    print(\"RESULTADOS DO INVESTIMENTO EM RENDA FIXA:\")\n",
        "    print(\"\");\n",
        "    print(f\"Valor Investido: R$ {valor_investido:.2f}\")\n",
        "    print(f\"Lucro Bruto: R$ {lucro_bruto:.2f}\")\n",
        "    print(f\"Tributação do Imposto de Renda: R$ {tributacao_ir:.2f}\")\n",
        "    print(f\"Lucro Líquido: R$ {lucro_liquido:.2f}\")\n",
        "    print(f\"Lucro Médio Mensal: R$ {lucro_medio_mensal:.2f}\")\n",
        "    print(f\"Taxa de Rendimento Média Mensal: {taxa_media_mensal:.2f}% \")\n",
        "\n",
        "# Executar o programa\n",
        "calcular_renda_fixa()\n"
      ],
      "metadata": {
        "id": "i8lpycilKGEX",
        "colab": {
          "base_uri": "https://localhost:8080/"
        },
        "outputId": "1eea691e-41b5-40d1-a19e-ac3cd0821008"
      },
      "execution_count": null,
      "outputs": [
        {
          "output_type": "stream",
          "name": "stdout",
          "text": [
            "===================================================================\n",
            "ESTE PROGRAMA CALCULA INVESTIMENTO EM RENDA FIXA\n",
            "===================================================================\n",
            "\n",
            "Digite o valor a ser investido: R$ 10000\n",
            "Digite a quantidade de MESES do investimento: 26\n",
            "Digite a taxa ANUAL de retorno (%): 12\n",
            "\n",
            "===================================================================\n",
            "\n",
            "RESULTADOS DO INVESTIMENTO EM RENDA FIXA:\n",
            "\n",
            "Valor Investido: R$ 10000.00\n",
            "Lucro Bruto: R$ 2783.18\n",
            "Tributação do Imposto de Renda: R$ 417.48\n",
            "Lucro Líquido: R$ 2365.71\n",
            "Lucro Médio Mensal: R$ 90.99\n",
            "Taxa de Rendimento Média Mensal: 0.91% \n"
          ]
        }
      ]
    },
    {
      "cell_type": "code",
      "source": [
        "## CÁLCULO DE VALOR FINAL INVESTINDO MES A MES\n",
        "\n",
        "\n",
        "print(\"===================================================================\");\n",
        "print(\"ESTE PROGRAMA CALCULA SOMATORIO DE CAPITAL DE UM INVESTIMENTO\");\n",
        "print(\"FEITO MES A MES POR UM PERÍODO DE TEMPO E A UMA TAXA DE RENDIMENTO CONSTANTE\");\n",
        "print(\"===================================================================\");\n",
        "print(\"\");\n",
        "print(\"===================================================================\");\n",
        "\n",
        "\n",
        "## Solicitando dados\n",
        "def dados():\n",
        "  valor_mes = float(input(\"Digite o valor a ser investido todo mês: \"));\n",
        "  taxa_anual = float(input(\"Digite o valor da taxa anual de rendimento em % a.a.: \"));\n",
        "  meses = float(input(\"Digite o prazo do investimento, em meses: \"));\n",
        "  return valor_mes, taxa_anual, meses\n",
        "\n",
        "\n",
        "## Função para calcular\n",
        "def invest_todo_mes():\n",
        "  ## Atribuindo valores de dados fora da função de dados\n",
        "  valor_mes, taxa_anual, meses = dados();\n",
        "  ## Espaço na saída\n",
        "  print(\"===================================================================\");\n",
        "  print(\"\");\n",
        "  print(\"===================================================================\");\n",
        "  ## calculando taxa mensal\n",
        "  taxa_mensal = (taxa_anual/100 + 1)**(1/12);  ## exemplo: 12% a.a. --> 1.00948879293458\n",
        "  ## Cálculo\n",
        "  valor_bruto = valor_mes *  ( (taxa_mensal**meses - 1) / (taxa_mensal - 1)  );\n",
        "  print(f\"Valor Bruto: R$ {valor_bruto:.2f}\")\n",
        "\n",
        "# Calculando\n",
        "invest_todo_mes()\n",
        "\n",
        "## OBSERVAÇÕES DE MELHORIA\n",
        "## INDICAR IMPOSTO DE RENDA, PRECISARÁ CONSIDERAR NUMERO N DE INVESTIMENTOS E CALCULAR\n",
        "## O SOMATÓRIO DOS IMPOSTOS DE RENDA MES A MES.\n",
        "## PARA ISSO, O CODIGO ACIMA DESTE NOTEBOOK COLAB PODE AJUDAR"
      ],
      "metadata": {
        "colab": {
          "base_uri": "https://localhost:8080/"
        },
        "id": "-1ZqrpE9Ggm1",
        "outputId": "3283230c-7f9c-4a96-a2b0-3fa47b42aefd"
      },
      "execution_count": null,
      "outputs": [
        {
          "output_type": "stream",
          "name": "stdout",
          "text": [
            "===================================================================\n",
            "ESTE PROGRAMA CALCULA SOMATORIO DE CAPITAL DE UM INVESTIMENTO\n",
            "FEITO MES A MES POR UM PERÍODO DE TEMPO E A UMA TAXA DE RENDIMENTO CONSTANTE\n",
            "===================================================================\n",
            "\n",
            "===================================================================\n",
            "Digite o valor a ser investido todo mês: 1000\n",
            "Digite o valor da taxa anual de rendimento em % a.a.: 12\n",
            "Digite o prazo do investimento, em meses: 25\n",
            "===================================================================\n",
            "\n",
            "===================================================================\n",
            "Lucro Bruto: R$ 28064.98\n"
          ]
        }
      ]
    },
    {
      "cell_type": "code",
      "source": [
        "## CÁLCULO DE VALOR FINAL INVESTINDO MES A MES, CONSIDERANDO IMPOSTO DE RENDA\n",
        "\n",
        "## CONTÉM ERROS, CONFERIR\n",
        "## ACHO QUE TA ELIMINANDO O IR MES A MES, FAZENDO COM QUE VALOR DE INVESTIMENTO SEJA MENOR\n",
        "\n",
        "\n",
        "print(\"===================================================================\");\n",
        "print(\"ESTE PROGRAMA CALCULA SERIE DE INVESTIMENTOS EM RENDA FIXA, CONSIDERANDO IR\");\n",
        "print(\"===================================================================\");\n",
        "print(\"\");\n",
        "\n",
        "\n",
        "def calcular_renda_fixa():\n",
        "    # Solicitar informações do usuário\n",
        "    valor_investido = float(input(\"Digite o valor a ser investido POR MES: R$ \"))\n",
        "    meses_vencimento = int(input(\"Digite a quantidade de MESES do investimento: \"))\n",
        "    taxa_anual = float(input(\"Digite a taxa ANUAL de retorno (%): \"))\n",
        "\n",
        "    total_investido = valor_investido * meses_vencimento\n",
        "    soma_meses = meses_vencimento\n",
        "    ## Comando de repetição para cálculo de imposto de renda, lucro bruto e lucro líquido\n",
        "    soma_bruto = 0\n",
        "    soma_liquido = 0\n",
        "    soma_ir = 0\n",
        "    for i in range (1, meses_vencimento+1):\n",
        "\n",
        "      # Conversão da taxa para mensal\n",
        "      taxa_mensal = (1 + taxa_anual / 100) ** (1 / 12) - 1\n",
        "\n",
        "      # Cálculos\n",
        "      ## Obs:considera-se que o mes 0 é o mês da 1ª aplicação\n",
        "      valor_final = valor_investido * (1 + taxa_mensal) ** (meses_vencimento)\n",
        "      lucro_bruto = valor_final - valor_investido\n",
        "\n",
        "      # Cálculo do imposto de renda (alíquota regressiva)\n",
        "      if meses_vencimento <= 6:\n",
        "          aliquota_ir = 22.5\n",
        "      elif meses_vencimento <= 12:\n",
        "          aliquota_ir = 20\n",
        "      elif meses_vencimento <= 24:\n",
        "          aliquota_ir = 17.5\n",
        "      else:\n",
        "          aliquota_ir = 15\n",
        "\n",
        "      tributacao_ir = lucro_bruto * (aliquota_ir / 100)\n",
        "      lucro_liquido = lucro_bruto - tributacao_ir\n",
        "\n",
        "      soma_bruto = soma_bruto + lucro_bruto\n",
        "      soma_liquido = soma_liquido + lucro_liquido\n",
        "      soma_ir = soma_ir + tributacao_ir\n",
        "      meses_vencimento = meses_vencimento - 1\n",
        "      ## FIM DO FOR. Segue a desidentação\n",
        "\n",
        "    lucro_medio_mensal = soma_liquido / soma_meses\n",
        "    valor_final = total_investido + soma_liquido\n",
        "\n",
        "    # Exibição dos resultados\n",
        "    print(\"\");\n",
        "    print(\"===================================================================\");\n",
        "    print(\"\");\n",
        "    print(\"RESULTADOS DO INVESTIMENTO EM RENDA FIXA:\")\n",
        "    print(\"\");\n",
        "    print(f\"Valor Investido: R$ {total_investido:.2f}\")\n",
        "    print(f\"Lucro Bruto: R$ {soma_bruto:.2f}\")\n",
        "    print(f\"Tributação do Imposto de Renda: R$ {soma_ir:.2f}\")\n",
        "    print(f\"Lucro Líquido: R$ {soma_liquido:.2f}\")\n",
        "    print(f\"Lucro Médio Mensal: R$ {lucro_medio_mensal:.2f}\")\n",
        "    print(f\"Valor Final: R$ {valor_final:.2f}\")\n",
        "\n",
        "# Executar o programa\n",
        "calcular_renda_fixa()\n"
      ],
      "metadata": {
        "colab": {
          "base_uri": "https://localhost:8080/"
        },
        "id": "z93HLxW4P_nh",
        "outputId": "d856304c-1888-4c0e-974b-c4777b93a3f8"
      },
      "execution_count": null,
      "outputs": [
        {
          "output_type": "stream",
          "name": "stdout",
          "text": [
            "===================================================================\n",
            "ESTE PROGRAMA CALCULA SERIE DE INVESTIMENTOS EM RENDA FIXA, CONSIDERANDO IR\n",
            "===================================================================\n",
            "\n",
            "Digite o valor a ser investido POR MES: R$ 10000\n",
            "Digite a quantidade de MESES do investimento: 180\n",
            "Digite a taxa ANUAL de retorno (%): 12\n",
            "\n",
            "===================================================================\n",
            "\n",
            "RESULTADOS DO INVESTIMENTO EM RENDA FIXA:\n",
            "\n",
            "Valor Investido: R$ 1800000.00\n",
            "Lucro Bruto: R$ 2959313.99\n",
            "Tributação do Imposto de Renda: R$ 444905.58\n",
            "Lucro Líquido: R$ 2514408.41\n",
            "Lucro Médio Mensal: R$ 13968.94\n",
            "Valor Final: R$ 4314408.41\n"
          ]
        }
      ]
    },
    {
      "cell_type": "markdown",
      "source": [
        "lalalal\n",
        "oi\n"
      ],
      "metadata": {
        "id": "bcePsEcIyzdn"
      }
    }
  ],
  "metadata": {
    "colab": {
      "provenance": [],
      "toc_visible": true
    },
    "kernelspec": {
      "display_name": "Python 3",
      "name": "python3"
    },
    "language_info": {
      "name": "python"
    }
  },
  "nbformat": 4,
  "nbformat_minor": 0
}